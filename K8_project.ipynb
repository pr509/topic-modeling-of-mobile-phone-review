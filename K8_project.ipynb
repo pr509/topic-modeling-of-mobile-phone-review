{
  "nbformat": 4,
  "nbformat_minor": 0,
  "metadata": {
    "colab": {
      "name": "K8 project.ipynb",
      "provenance": []
    },
    "kernelspec": {
      "name": "python3",
      "display_name": "Python 3"
    },
    "language_info": {
      "name": "python"
    },
    "accelerator": "GPU"
  },
  "cells": [
    {
      "cell_type": "code",
      "execution_count": 21,
      "metadata": {
        "id": "_2v-XArls3xr"
      },
      "outputs": [],
      "source": [
        "import pandas as pd\n",
        "import numpy as np\n",
        "import matplotlib.pyplot as plt\n",
        "import seaborn as sea "
      ]
    },
    {
      "cell_type": "code",
      "source": [
        "import nltk\n",
        "from nltk.tokenize import word_tokenize,sent_tokenize\n",
        "from nltk.corpus import stopwords\n",
        "from nltk.stem import PorterStemmer,WordNetLemmatizer"
      ],
      "metadata": {
        "id": "R1EfY-kGvJT2"
      },
      "execution_count": 22,
      "outputs": []
    },
    {
      "cell_type": "code",
      "source": [
        "import re "
      ],
      "metadata": {
        "id": "N4cqTMqs4tHo"
      },
      "execution_count": 58,
      "outputs": []
    },
    {
      "cell_type": "code",
      "source": [
        "import gensim\n",
        "from gensim import corpora\n",
        "from gensim.models import LdaModel,LdaMulticore"
      ],
      "metadata": {
        "id": "Huhv_Rby6glt"
      },
      "execution_count": 68,
      "outputs": []
    },
    {
      "cell_type": "code",
      "source": [
        "nltk.download('punkt')"
      ],
      "metadata": {
        "colab": {
          "base_uri": "https://localhost:8080/"
        },
        "id": "Arh2dKRFwF9F",
        "outputId": "1366de5f-4cfd-4efe-c907-609dd50b0cdf"
      },
      "execution_count": 23,
      "outputs": [
        {
          "output_type": "stream",
          "name": "stdout",
          "text": [
            "[nltk_data] Downloading package punkt to /root/nltk_data...\n",
            "[nltk_data]   Package punkt is already up-to-date!\n"
          ]
        },
        {
          "output_type": "execute_result",
          "data": {
            "text/plain": [
              "True"
            ]
          },
          "metadata": {},
          "execution_count": 23
        }
      ]
    },
    {
      "cell_type": "code",
      "source": [
        "nltk.download('wordnet')"
      ],
      "metadata": {
        "colab": {
          "base_uri": "https://localhost:8080/"
        },
        "id": "FNopvDHu4Qar",
        "outputId": "422ee6ee-5e5a-4836-d094-5729c24240ad"
      },
      "execution_count": 54,
      "outputs": [
        {
          "output_type": "stream",
          "name": "stdout",
          "text": [
            "[nltk_data] Downloading package wordnet to /root/nltk_data...\n",
            "[nltk_data]   Unzipping corpora/wordnet.zip.\n"
          ]
        },
        {
          "output_type": "execute_result",
          "data": {
            "text/plain": [
              "True"
            ]
          },
          "metadata": {},
          "execution_count": 54
        }
      ]
    },
    {
      "cell_type": "code",
      "source": [
        "nltk.download('stopwords')\n",
        "stop_word=stopwords.words('english')\n",
        "stemmer=PorterStemmer()\n",
        "lemitizer=WordNetLemmatizer()"
      ],
      "metadata": {
        "colab": {
          "base_uri": "https://localhost:8080/"
        },
        "id": "SDRbjIaDvco7",
        "outputId": "5dc029ae-2089-4aa4-93f8-a12efefb76b3"
      },
      "execution_count": 24,
      "outputs": [
        {
          "output_type": "stream",
          "name": "stdout",
          "text": [
            "[nltk_data] Downloading package stopwords to /root/nltk_data...\n",
            "[nltk_data]   Package stopwords is already up-to-date!\n"
          ]
        }
      ]
    },
    {
      "cell_type": "code",
      "source": [
        "df=pd.read_csv('/content/drive/MyDrive/simplilearn projects /natural language processing /nlp project 1/K8 Reviews v0.2.csv')"
      ],
      "metadata": {
        "id": "E68ufwymtf4i"
      },
      "execution_count": 25,
      "outputs": []
    },
    {
      "cell_type": "code",
      "source": [
        "df.shape"
      ],
      "metadata": {
        "colab": {
          "base_uri": "https://localhost:8080/"
        },
        "id": "AX4bffAEtyWz",
        "outputId": "9472ec8b-9a10-4c20-db66-cebc351dd3ec"
      },
      "execution_count": 26,
      "outputs": [
        {
          "output_type": "execute_result",
          "data": {
            "text/plain": [
              "(14675, 2)"
            ]
          },
          "metadata": {},
          "execution_count": 26
        }
      ]
    },
    {
      "cell_type": "code",
      "source": [
        "df.head()"
      ],
      "metadata": {
        "colab": {
          "base_uri": "https://localhost:8080/",
          "height": 206
        },
        "id": "j7-UQmP1t4wV",
        "outputId": "4bd6c7b2-be67-482d-d431-3994f61c3b6d"
      },
      "execution_count": 27,
      "outputs": [
        {
          "output_type": "execute_result",
          "data": {
            "text/html": [
              "<div>\n",
              "<style scoped>\n",
              "    .dataframe tbody tr th:only-of-type {\n",
              "        vertical-align: middle;\n",
              "    }\n",
              "\n",
              "    .dataframe tbody tr th {\n",
              "        vertical-align: top;\n",
              "    }\n",
              "\n",
              "    .dataframe thead th {\n",
              "        text-align: right;\n",
              "    }\n",
              "</style>\n",
              "<table border=\"1\" class=\"dataframe\">\n",
              "  <thead>\n",
              "    <tr style=\"text-align: right;\">\n",
              "      <th></th>\n",
              "      <th>sentiment</th>\n",
              "      <th>review</th>\n",
              "    </tr>\n",
              "  </thead>\n",
              "  <tbody>\n",
              "    <tr>\n",
              "      <th>0</th>\n",
              "      <td>1</td>\n",
              "      <td>Good but need updates and improvements</td>\n",
              "    </tr>\n",
              "    <tr>\n",
              "      <th>1</th>\n",
              "      <td>0</td>\n",
              "      <td>Worst mobile i have bought ever, Battery is dr...</td>\n",
              "    </tr>\n",
              "    <tr>\n",
              "      <th>2</th>\n",
              "      <td>1</td>\n",
              "      <td>when I will get my 10% cash back.... its alrea...</td>\n",
              "    </tr>\n",
              "    <tr>\n",
              "      <th>3</th>\n",
              "      <td>1</td>\n",
              "      <td>Good</td>\n",
              "    </tr>\n",
              "    <tr>\n",
              "      <th>4</th>\n",
              "      <td>0</td>\n",
              "      <td>The worst phone everThey have changed the last...</td>\n",
              "    </tr>\n",
              "  </tbody>\n",
              "</table>\n",
              "</div>"
            ],
            "text/plain": [
              "   sentiment                                             review\n",
              "0          1             Good but need updates and improvements\n",
              "1          0  Worst mobile i have bought ever, Battery is dr...\n",
              "2          1  when I will get my 10% cash back.... its alrea...\n",
              "3          1                                               Good\n",
              "4          0  The worst phone everThey have changed the last..."
            ]
          },
          "metadata": {},
          "execution_count": 27
        }
      ]
    },
    {
      "cell_type": "code",
      "source": [
        "sea.countplot(df['sentiment'])"
      ],
      "metadata": {
        "colab": {
          "base_uri": "https://localhost:8080/",
          "height": 353
        },
        "id": "dlP5-P0_uFKO",
        "outputId": "433f963b-a90c-4917-f7a0-7c6cde737114"
      },
      "execution_count": 6,
      "outputs": [
        {
          "output_type": "stream",
          "name": "stderr",
          "text": [
            "/usr/local/lib/python3.7/dist-packages/seaborn/_decorators.py:43: FutureWarning: Pass the following variable as a keyword arg: x. From version 0.12, the only valid positional argument will be `data`, and passing other arguments without an explicit keyword will result in an error or misinterpretation.\n",
            "  FutureWarning\n"
          ]
        },
        {
          "output_type": "execute_result",
          "data": {
            "text/plain": [
              "<matplotlib.axes._subplots.AxesSubplot at 0x7f5e677023d0>"
            ]
          },
          "metadata": {},
          "execution_count": 6
        },
        {
          "output_type": "display_data",
          "data": {
            "image/png": "[encoded data removed]",
            "text/plain": [
              "<Figure size 432x288 with 1 Axes>"
            ]
          },
          "metadata": {
            "needs_background": "light"
          }
        }
      ]
    },
    {
      "cell_type": "code",
      "source": [
        "df['review1']=df['review'].apply(lambda x: x.lower())"
      ],
      "metadata": {
        "id": "x_dcWoROuQHm"
      },
      "execution_count": 28,
      "outputs": []
    },
    {
      "cell_type": "code",
      "source": [
        "df['review1']=df['review1'].apply(lambda x:word_tokenize(x))"
      ],
      "metadata": {
        "id": "Gi6f-p0vukLs"
      },
      "execution_count": 29,
      "outputs": []
    },
    {
      "cell_type": "code",
      "source": [
        "import spacy"
      ],
      "metadata": {
        "id": "fEQUlkrbwDS6"
      },
      "execution_count": 30,
      "outputs": []
    },
    {
      "cell_type": "code",
      "source": [
        "nlp=spacy.load('en_core_web_sm')"
      ],
      "metadata": {
        "id": "Sr0R7C9xxFct"
      },
      "execution_count": 31,
      "outputs": []
    },
    {
      "cell_type": "code",
      "source": [
        "def pos(text):\n",
        "  var1=[]\n",
        "  doc=nlp(text)\n",
        "  for token in doc:\n",
        "    if token.pos_=='NOUN':\n",
        "      var1.append(token.text)\n",
        "  return var1"
      ],
      "metadata": {
        "id": "Y8ktOkRqxVSO"
      },
      "execution_count": 48,
      "outputs": []
    },
    {
      "cell_type": "code",
      "source": [
        "pos(df['review'][0])"
      ],
      "metadata": {
        "colab": {
          "base_uri": "https://localhost:8080/"
        },
        "id": "griL-tciyFSO",
        "outputId": "0e663616-eded-4b68-ada1-748d0bb8e1b1"
      },
      "execution_count": 49,
      "outputs": [
        {
          "output_type": "execute_result",
          "data": {
            "text/plain": [
              "['updates', 'improvements']"
            ]
          },
          "metadata": {},
          "execution_count": 49
        }
      ]
    },
    {
      "cell_type": "code",
      "source": [
        "df['pos_tag']=df['review'].apply(lambda x:pos(x))"
      ],
      "metadata": {
        "id": "M64sMhh3yUXC"
      },
      "execution_count": 50,
      "outputs": []
    },
    {
      "cell_type": "code",
      "source": [
        "df.head()"
      ],
      "metadata": {
        "colab": {
          "base_uri": "https://localhost:8080/",
          "height": 206
        },
        "id": "kzOa0LKD190y",
        "outputId": "9af77b2e-f20a-4f93-fb16-72fc8f68552f"
      },
      "execution_count": 56,
      "outputs": [
        {
          "output_type": "execute_result",
          "data": {
            "text/html": [
              "<div>\n",
              "<style scoped>\n",
              "    .dataframe tbody tr th:only-of-type {\n",
              "        vertical-align: middle;\n",
              "    }\n",
              "\n",
              "    .dataframe tbody tr th {\n",
              "        vertical-align: top;\n",
              "    }\n",
              "\n",
              "    .dataframe thead th {\n",
              "        text-align: right;\n",
              "    }\n",
              "</style>\n",
              "<table border=\"1\" class=\"dataframe\">\n",
              "  <thead>\n",
              "    <tr style=\"text-align: right;\">\n",
              "      <th></th>\n",
              "      <th>sentiment</th>\n",
              "      <th>review</th>\n",
              "      <th>review1</th>\n",
              "      <th>pos_tag</th>\n",
              "    </tr>\n",
              "  </thead>\n",
              "  <tbody>\n",
              "    <tr>\n",
              "      <th>0</th>\n",
              "      <td>1</td>\n",
              "      <td>Good but need updates and improvements</td>\n",
              "      <td>[good, but, need, updates, and, improvements]</td>\n",
              "      <td>[update, improvement]</td>\n",
              "    </tr>\n",
              "    <tr>\n",
              "      <th>1</th>\n",
              "      <td>0</td>\n",
              "      <td>Worst mobile i have bought ever, Battery is dr...</td>\n",
              "      <td>[worst, mobile, i, have, bought, ever, ,, batt...</td>\n",
              "      <td>[mobile, hell, hour, internet, us, lie, batter...</td>\n",
              "    </tr>\n",
              "    <tr>\n",
              "      <th>2</th>\n",
              "      <td>1</td>\n",
              "      <td>when I will get my 10% cash back.... its alrea...</td>\n",
              "      <td>[when, i, will, get, my, 10, %, cash, back, .....</td>\n",
              "      <td>[%, cash]</td>\n",
              "    </tr>\n",
              "    <tr>\n",
              "      <th>3</th>\n",
              "      <td>1</td>\n",
              "      <td>Good</td>\n",
              "      <td>[good]</td>\n",
              "      <td>[]</td>\n",
              "    </tr>\n",
              "    <tr>\n",
              "      <th>4</th>\n",
              "      <td>0</td>\n",
              "      <td>The worst phone everThey have changed the last...</td>\n",
              "      <td>[the, worst, phone, everthey, have, changed, t...</td>\n",
              "      <td>[phone, everThey, phone, problem, amazon, phone]</td>\n",
              "    </tr>\n",
              "  </tbody>\n",
              "</table>\n",
              "</div>"
            ],
            "text/plain": [
              "   sentiment  ...                                            pos_tag\n",
              "0          1  ...                              [update, improvement]\n",
              "1          0  ...  [mobile, hell, hour, internet, us, lie, batter...\n",
              "2          1  ...                                          [%, cash]\n",
              "3          1  ...                                                 []\n",
              "4          0  ...   [phone, everThey, phone, problem, amazon, phone]\n",
              "\n",
              "[5 rows x 4 columns]"
            ]
          },
          "metadata": {},
          "execution_count": 56
        }
      ]
    },
    {
      "cell_type": "code",
      "source": [
        "def clean(text):\n",
        "  var1=[]\n",
        "  for word in text:\n",
        "      var1.append(lemitizer.lemmatize(word))\n",
        "  return var1"
      ],
      "metadata": {
        "id": "zQU2Eh-c3kvo"
      },
      "execution_count": 52,
      "outputs": []
    },
    {
      "cell_type": "code",
      "source": [
        "def stop(text):\n",
        "  var1=[]\n",
        "  for word in text:\n",
        "    if word not in stop_word:\n",
        "      var1.append(word)\n",
        "  return var1"
      ],
      "metadata": {
        "id": "0nu8GqXz5FSU"
      },
      "execution_count": 61,
      "outputs": []
    },
    {
      "cell_type": "code",
      "source": [
        "df['pos_tag']=df['pos_tag'].apply(lambda x:stop(x))"
      ],
      "metadata": {
        "id": "PFkpAyrF5alu"
      },
      "execution_count": 62,
      "outputs": []
    },
    {
      "cell_type": "code",
      "source": [
        "df['pos_tag']=df['pos_tag'].apply(lambda x:clean(x))"
      ],
      "metadata": {
        "id": "2dTlVzmo4C0r"
      },
      "execution_count": 63,
      "outputs": []
    },
    {
      "cell_type": "code",
      "source": [
        "df['pos_tag1']=df['pos_tag'].apply(lambda x:' '.join(x))"
      ],
      "metadata": {
        "id": "a2e2iLJx4NTb"
      },
      "execution_count": 64,
      "outputs": []
    },
    {
      "cell_type": "code",
      "source": [
        "def cleaning(text):\n",
        "  text=re.sub('[^a-zA-Z]',' ',text)\n",
        "  return text"
      ],
      "metadata": {
        "id": "y0zUhs_j4kYm"
      },
      "execution_count": 65,
      "outputs": []
    },
    {
      "cell_type": "code",
      "source": [
        "df['pos_tag1']=df['pos_tag1'].apply(lambda x:cleaning(x))"
      ],
      "metadata": {
        "id": "i3sFOmfh442Q"
      },
      "execution_count": 66,
      "outputs": []
    },
    {
      "cell_type": "code",
      "source": [
        "df.head()"
      ],
      "metadata": {
        "colab": {
          "base_uri": "https://localhost:8080/",
          "height": 206
        },
        "id": "YZGD_FEP5CW7",
        "outputId": "6276888f-8af9-48ad-caf5-4155453412db"
      },
      "execution_count": 67,
      "outputs": [
        {
          "output_type": "execute_result",
          "data": {
            "text/html": [
              "<div>\n",
              "<style scoped>\n",
              "    .dataframe tbody tr th:only-of-type {\n",
              "        vertical-align: middle;\n",
              "    }\n",
              "\n",
              "    .dataframe tbody tr th {\n",
              "        vertical-align: top;\n",
              "    }\n",
              "\n",
              "    .dataframe thead th {\n",
              "        text-align: right;\n",
              "    }\n",
              "</style>\n",
              "<table border=\"1\" class=\"dataframe\">\n",
              "  <thead>\n",
              "    <tr style=\"text-align: right;\">\n",
              "      <th></th>\n",
              "      <th>sentiment</th>\n",
              "      <th>review</th>\n",
              "      <th>review1</th>\n",
              "      <th>pos_tag</th>\n",
              "      <th>pos_tag1</th>\n",
              "    </tr>\n",
              "  </thead>\n",
              "  <tbody>\n",
              "    <tr>\n",
              "      <th>0</th>\n",
              "      <td>1</td>\n",
              "      <td>Good but need updates and improvements</td>\n",
              "      <td>[good, but, need, updates, and, improvements]</td>\n",
              "      <td>[update, improvement]</td>\n",
              "      <td>update improvement</td>\n",
              "    </tr>\n",
              "    <tr>\n",
              "      <th>1</th>\n",
              "      <td>0</td>\n",
              "      <td>Worst mobile i have bought ever, Battery is dr...</td>\n",
              "      <td>[worst, mobile, i, have, bought, ever, ,, batt...</td>\n",
              "      <td>[mobile, hell, hour, internet, u, lie, battery...</td>\n",
              "      <td>mobile hell hour internet u lie battery charge...</td>\n",
              "    </tr>\n",
              "    <tr>\n",
              "      <th>2</th>\n",
              "      <td>1</td>\n",
              "      <td>when I will get my 10% cash back.... its alrea...</td>\n",
              "      <td>[when, i, will, get, my, 10, %, cash, back, .....</td>\n",
              "      <td>[%, cash]</td>\n",
              "      <td>cash</td>\n",
              "    </tr>\n",
              "    <tr>\n",
              "      <th>3</th>\n",
              "      <td>1</td>\n",
              "      <td>Good</td>\n",
              "      <td>[good]</td>\n",
              "      <td>[]</td>\n",
              "      <td></td>\n",
              "    </tr>\n",
              "    <tr>\n",
              "      <th>4</th>\n",
              "      <td>0</td>\n",
              "      <td>The worst phone everThey have changed the last...</td>\n",
              "      <td>[the, worst, phone, everthey, have, changed, t...</td>\n",
              "      <td>[phone, everThey, phone, problem, amazon, phone]</td>\n",
              "      <td>phone everThey phone problem amazon phone</td>\n",
              "    </tr>\n",
              "  </tbody>\n",
              "</table>\n",
              "</div>"
            ],
            "text/plain": [
              "   sentiment  ...                                           pos_tag1\n",
              "0          1  ...                                 update improvement\n",
              "1          0  ...  mobile hell hour internet u lie battery charge...\n",
              "2          1  ...                                               cash\n",
              "3          1  ...                                                   \n",
              "4          0  ...          phone everThey phone problem amazon phone\n",
              "\n",
              "[5 rows x 5 columns]"
            ]
          },
          "metadata": {},
          "execution_count": 67
        }
      ]
    },
    {
      "cell_type": "code",
      "source": [
        "corpus=[]\n",
        "for text in df['pos_tag1']:\n",
        "  corpus.append(text)"
      ],
      "metadata": {
        "id": "XwrNROLW5tI1"
      },
      "execution_count": 71,
      "outputs": []
    },
    {
      "cell_type": "code",
      "source": [
        "len(corpus)"
      ],
      "metadata": {
        "colab": {
          "base_uri": "https://localhost:8080/"
        },
        "id": "gJStZ3067KNO",
        "outputId": "5023a1c2-46f9-475b-cab0-cf4f490d11ab"
      },
      "execution_count": 70,
      "outputs": [
        {
          "output_type": "execute_result",
          "data": {
            "text/plain": [
              "14675"
            ]
          },
          "metadata": {},
          "execution_count": 70
        }
      ]
    },
    {
      "cell_type": "code",
      "source": [
        "text=[]\n",
        "for line in corpus:\n",
        "  text.append(line.split())"
      ],
      "metadata": {
        "id": "01oHAXQO7L_j"
      },
      "execution_count": 72,
      "outputs": []
    },
    {
      "cell_type": "code",
      "source": [
        "len(text)"
      ],
      "metadata": {
        "colab": {
          "base_uri": "https://localhost:8080/"
        },
        "id": "Y8iaO9qZ7aRo",
        "outputId": "89b99a8d-9791-42ff-80d0-63d7bbf77359"
      },
      "execution_count": 73,
      "outputs": [
        {
          "output_type": "execute_result",
          "data": {
            "text/plain": [
              "14675"
            ]
          },
          "metadata": {},
          "execution_count": 73
        }
      ]
    },
    {
      "cell_type": "code",
      "source": [
        "dictionary=corpora.Dictionary(text)"
      ],
      "metadata": {
        "id": "P5NtFmz47cdg"
      },
      "execution_count": 74,
      "outputs": []
    },
    {
      "cell_type": "code",
      "source": [
        "my_corpus=[]\n",
        "for word in text:\n",
        "  my_corpus.append(dictionary.doc2bow(word))"
      ],
      "metadata": {
        "id": "M6-4ap6G7h29"
      },
      "execution_count": 75,
      "outputs": []
    },
    {
      "cell_type": "code",
      "source": [
        "len(my_corpus)"
      ],
      "metadata": {
        "colab": {
          "base_uri": "https://localhost:8080/"
        },
        "id": "kDq2BPYR7z7p",
        "outputId": "5c749033-fb2e-4737-ac56-543ed4a88776"
      },
      "execution_count": 76,
      "outputs": [
        {
          "output_type": "execute_result",
          "data": {
            "text/plain": [
              "14675"
            ]
          },
          "metadata": {},
          "execution_count": 76
        }
      ]
    },
    {
      "cell_type": "code",
      "source": [
        "lda_model = LdaMulticore(corpus=my_corpus,\n",
        "                         id2word=dictionary,\n",
        "                         random_state=100,\n",
        "                         num_topics=12,\n",
        "                         passes=10,\n",
        "                         chunksize=1000,\n",
        "                         batch=False,\n",
        "                         alpha='asymmetric',\n",
        "                         decay=0.5,\n",
        "                         offset=64,\n",
        "                         eta=None,\n",
        "                         eval_every=0,\n",
        "                         iterations=100,\n",
        "                         gamma_threshold=0.001,\n",
        "                         per_word_topics=True)"
      ],
      "metadata": {
        "id": "GB3gzBhE74VL"
      },
      "execution_count": 78,
      "outputs": []
    },
    {
      "cell_type": "code",
      "source": [
        "lda_model.save('lda_model.model')"
      ],
      "metadata": {
        "id": "vAFiXKsh78jT"
      },
      "execution_count": 79,
      "outputs": []
    },
    {
      "cell_type": "code",
      "source": [
        "lda_model.print_topics(-1)"
      ],
      "metadata": {
        "colab": {
          "base_uri": "https://localhost:8080/"
        },
        "id": "jeTbCdKy8t4W",
        "outputId": "ab5a1bb2-12c9-415f-f455-30c697fe1c19"
      },
      "execution_count": 80,
      "outputs": [
        {
          "output_type": "execute_result",
          "data": {
            "text/plain": [
              "[(0,\n",
              "  '0.155*\"phone\" + 0.063*\"battery\" + 0.026*\"issue\" + 0.020*\"time\" + 0.019*\"day\" + 0.019*\"price\" + 0.019*\"camera\" + 0.018*\"performance\" + 0.014*\"problem\" + 0.012*\"hour\"'),\n",
              " (1,\n",
              "  '0.123*\"product\" + 0.092*\"mobile\" + 0.069*\"problem\" + 0.042*\"money\" + 0.036*\"issue\" + 0.027*\"service\" + 0.025*\"heating\" + 0.018*\"network\" + 0.016*\"time\" + 0.015*\"day\"'),\n",
              " (2,\n",
              "  '0.125*\"Phone\" + 0.120*\"Battery\" + 0.062*\"screen\" + 0.039*\"option\" + 0.032*\"backup\" + 0.028*\"work\" + 0.025*\"headphone\" + 0.020*\"cast\" + 0.019*\"gallery\" + 0.019*\"Screen\"'),\n",
              " (3,\n",
              "  '0.104*\"speaker\" + 0.059*\"phone\" + 0.048*\"box\" + 0.040*\"earphone\" + 0.038*\"side\" + 0.035*\"volume\" + 0.034*\"sound\" + 0.018*\"button\" + 0.013*\"show\" + 0.013*\"class\"'),\n",
              " (4,\n",
              "  '0.020*\"bhi\" + 0.016*\"PRODUCT\" + 0.015*\"pack\" + 0.014*\"BATTERY\" + 0.014*\"SIM\" + 0.011*\"MI\" + 0.010*\"CALL\" + 0.009*\"hype\" + 0.008*\"theme\" + 0.008*\"running\"'),\n",
              " (5,\n",
              "  '0.139*\"camera\" + 0.081*\"quality\" + 0.052*\"phone\" + 0.028*\"feature\" + 0.016*\"mode\" + 0.015*\"depth\" + 0.015*\"performance\" + 0.014*\"Camera\" + 0.013*\"glass\" + 0.013*\"display\"'),\n",
              " (6,\n",
              "  '0.042*\"centre\" + 0.026*\"Money\" + 0.021*\"service\" + 0.021*\"thing\" + 0.019*\"th\" + 0.016*\"department\" + 0.014*\"excellent\" + 0.011*\"visit\" + 0.009*\"shot\" + 0.008*\"Experience\"'),\n",
              " (7,\n",
              "  '0.031*\"phn\" + 0.020*\"Charger\" + 0.019*\"Hangs\" + 0.019*\"copy\" + 0.015*\"HEATING\" + 0.014*\"K\" + 0.014*\"Software\" + 0.011*\"gadget\" + 0.011*\"PROBLEM\" + 0.010*\"Mind\"'),\n",
              " (8,\n",
              "  '0.089*\"Performance\" + 0.028*\"Features\" + 0.017*\"low\" + 0.017*\"brightness\" + 0.014*\"PHONE\" + 0.010*\"Friends\" + 0.010*\"in\" + 0.010*\"Weight\" + 0.009*\"SCREEN\" + 0.008*\"GOOD\"'),\n",
              " (9,\n",
              "  '0.090*\"good\" + 0.066*\"buy\" + 0.039*\"headset\" + 0.038*\"need\" + 0.035*\"choice\" + 0.016*\"mind\" + 0.016*\"water\" + 0.011*\"design\" + 0.011*\"improvement\" + 0.011*\"technology\"'),\n",
              " (10,\n",
              "  '0.124*\"model\" + 0.083*\"killer\" + 0.044*\"complaint\" + 0.024*\"concern\" + 0.020*\"movie\" + 0.018*\"difference\" + 0.018*\"restart\" + 0.016*\"standard\" + 0.010*\"feel\" + 0.010*\"note\"'),\n",
              " (11,\n",
              "  '0.010*\"machine\" + 0.009*\"Products\" + 0.008*\"fetures\" + 0.008*\"save\" + 0.006*\"season\" + 0.005*\"watsapp\" + 0.005*\"qualityGreat\" + 0.005*\"phoneLarge\" + 0.005*\"fineBattery\" + 0.005*\"disappointment\"')]"
            ]
          },
          "metadata": {},
          "execution_count": 80
        }
      ]
    },
    {
      "cell_type": "code",
      "source": [
        "from gensim.models import CoherenceModel"
      ],
      "metadata": {
        "id": "GO3ETCKD8w0q"
      },
      "execution_count": 81,
      "outputs": []
    },
    {
      "cell_type": "code",
      "source": [
        "lda_model_coherence = CoherenceModel(model=lda_model,texts=text,dictionary=dictionary,\n",
        "                                    coherence='c_v')"
      ],
      "metadata": {
        "id": "0VSgW3mr9oKa"
      },
      "execution_count": 82,
      "outputs": []
    },
    {
      "cell_type": "code",
      "source": [
        "coherence_lda = lda_model_coherence.get_coherence()\n",
        "print('\\nCoherence Score:',coherence_lda)"
      ],
      "metadata": {
        "colab": {
          "base_uri": "https://localhost:8080/"
        },
        "id": "ufi8MDo39xRt",
        "outputId": "fab18d2a-c114-4eec-8aad-622e87beac7f"
      },
      "execution_count": 83,
      "outputs": [
        {
          "output_type": "stream",
          "name": "stdout",
          "text": [
            "\n",
            "Coherence Score: 0.5526065744476841\n"
          ]
        }
      ]
    },
    {
      "cell_type": "code",
      "source": [
        "def compute_coherence_score(corpus,dictionary,k,a):\n",
        "    #instantiate the model instance based on k,a and b\n",
        "    lda_model = gensim.models.LdaMulticore(corpus=corpus,id2word=dictionary,num_topics=k,alpha=a,\n",
        "                                           passes=10)\n",
        "    lda_model_coherence = CoherenceModel(model=lda_model,texts=text,dictionary=dictionary,coherence='c_v')\n",
        "    return lda_model_coherence.get_coherence()"
      ],
      "metadata": {
        "id": "PfQff2Ae-Xcb"
      },
      "execution_count": 87,
      "outputs": []
    },
    {
      "cell_type": "code",
      "source": [
        "alpha =['symmetric','asymmetric']\n",
        "\n",
        "for x in alpha:\n",
        "    print('Coherence Model with alpha = {}'.format(x))\n",
        "    print('-------------------------------------------')\n",
        "    print('\\n')\n",
        "    for i in range(5,10):\n",
        "        score = compute_coherence_score(corpus=my_corpus,dictionary=dictionary,k=i,a=x)        \n",
        "        print(f'Coherence score with {i} topics is {score}')\n",
        "        print('\\n')"
      ],
      "metadata": {
        "colab": {
          "base_uri": "https://localhost:8080/"
        },
        "id": "A_N9cN44914k",
        "outputId": "1d46f9c9-f1ac-4217-e686-693b8533bda4"
      },
      "execution_count": 88,
      "outputs": [
        {
          "output_type": "stream",
          "name": "stdout",
          "text": [
            "Coherence Model with alpha = symmetric\n",
            "-------------------------------------------\n",
            "\n",
            "\n",
            "Coherence score with 5 topics is 0.5666731978650074\n",
            "\n",
            "\n",
            "Coherence score with 6 topics is 0.540626452409843\n",
            "\n",
            "\n",
            "Coherence score with 7 topics is 0.5402461024340826\n",
            "\n",
            "\n",
            "Coherence score with 8 topics is 0.5930777769129563\n",
            "\n",
            "\n",
            "Coherence score with 9 topics is 0.5199075911256509\n",
            "\n",
            "\n",
            "Coherence Model with alpha = asymmetric\n",
            "-------------------------------------------\n",
            "\n",
            "\n",
            "Coherence score with 5 topics is 0.5552424180659641\n",
            "\n",
            "\n",
            "Coherence score with 6 topics is 0.5534565281703909\n",
            "\n",
            "\n",
            "Coherence score with 7 topics is 0.5633191259609192\n",
            "\n",
            "\n",
            "Coherence score with 8 topics is 0.5521699910714056\n",
            "\n",
            "\n",
            "Coherence score with 9 topics is 0.5834680217193067\n",
            "\n",
            "\n"
          ]
        }
      ]
    },
    {
      "cell_type": "code",
      "source": [
        "lda_model_final = gensim.models.LdaMulticore(corpus=my_corpus,num_topics=8,id2word=dictionary,passes=10,workers=2,alpha='symmetric')"
      ],
      "metadata": {
        "id": "1ekRx5lN-P49"
      },
      "execution_count": 89,
      "outputs": []
    },
    {
      "cell_type": "code",
      "source": [
        "from pprint import pprint"
      ],
      "metadata": {
        "id": "_5mjWJBKBkWd"
      },
      "execution_count": 90,
      "outputs": []
    },
    {
      "cell_type": "code",
      "source": [
        "pprint(lda_model_final.print_topics())"
      ],
      "metadata": {
        "colab": {
          "base_uri": "https://localhost:8080/"
        },
        "id": "xq-_juWBBpny",
        "outputId": "5ed3908c-62aa-4e1d-8894-4025827a7382"
      },
      "execution_count": 91,
      "outputs": [
        {
          "output_type": "stream",
          "name": "stdout",
          "text": [
            "[(0,\n",
            "  '0.044*\"product\" + 0.032*\"speaker\" + 0.025*\"handset\" + 0.021*\"customer\" + '\n",
            "  '0.020*\"experience\" + 0.019*\"replacement\" + 0.019*\"return\" + '\n",
            "  '0.017*\"headphone\" + 0.016*\"earphone\" + 0.014*\"set\"'),\n",
            " (1,\n",
            "  '0.133*\"product\" + 0.118*\"battery\" + 0.115*\"mobile\" + 0.052*\"Battery\" + '\n",
            "  '0.047*\"performance\" + 0.039*\"backup\" + 0.027*\"quality\" + 0.021*\"heat\" + '\n",
            "  '0.021*\"drain\" + 0.020*\"problem\"'),\n",
            " (2,\n",
            "  '0.033*\"camera\" + 0.027*\"Heating\" + 0.026*\"screen\" + 0.025*\"problem\" + '\n",
            "  '0.022*\"quality\" + 0.020*\"sound\" + 0.019*\"Mobile\" + 0.018*\"video\" + '\n",
            "  '0.017*\"sensor\" + 0.017*\"time\"'),\n",
            " (3,\n",
            "  '0.056*\"feature\" + 0.053*\"phone\" + 0.038*\"call\" + 0.034*\"screen\" + '\n",
            "  '0.029*\"option\" + 0.021*\"app\" + 0.017*\"Phone\" + 0.012*\"sim\" + 0.012*\"G\" + '\n",
            "  '0.012*\"recording\"'),\n",
            " (4,\n",
            "  '0.076*\"problem\" + 0.059*\"issue\" + 0.045*\"phone\" + 0.039*\"time\" + '\n",
            "  '0.037*\"day\" + 0.031*\"battery\" + 0.028*\"heating\" + 0.021*\"network\" + '\n",
            "  '0.021*\"update\" + 0.021*\"month\"'),\n",
            " (5,\n",
            "  '0.430*\"phone\" + 0.045*\"price\" + 0.034*\"device\" + 0.023*\"range\" + '\n",
            "  '0.014*\"budget\" + 0.010*\"month\" + 0.009*\"time\" + 0.008*\"k\" + '\n",
            "  '0.008*\"smartphone\" + 0.007*\"look\"'),\n",
            " (6,\n",
            "  '0.135*\"camera\" + 0.062*\"phone\" + 0.048*\"quality\" + 0.038*\"battery\" + '\n",
            "  '0.027*\"price\" + 0.021*\"issue\" + 0.019*\"mode\" + 0.017*\"performance\" + '\n",
            "  '0.014*\"day\" + 0.014*\"feature\"'),\n",
            " (7,\n",
            "  '0.055*\"money\" + 0.052*\"charger\" + 0.049*\"service\" + 0.033*\"product\" + '\n",
            "  '0.032*\"delivery\" + 0.026*\"Product\" + 0.026*\"waste\" + 0.024*\"box\" + '\n",
            "  '0.016*\"Value\" + 0.016*\"glass\"')]\n"
          ]
        }
      ]
    },
    {
      "cell_type": "code",
      "source": [
        "doc_lda = lda_model_final[my_corpus]"
      ],
      "metadata": {
        "id": "PVAdPMNvCCJC"
      },
      "execution_count": 92,
      "outputs": []
    },
    {
      "cell_type": "code",
      "source": [
        "doc_lda"
      ],
      "metadata": {
        "colab": {
          "base_uri": "https://localhost:8080/"
        },
        "id": "ewxJ2zwxCIBX",
        "outputId": "3d31480c-69a7-429f-f594-4e0f79af369a"
      },
      "execution_count": 93,
      "outputs": [
        {
          "output_type": "execute_result",
          "data": {
            "text/plain": [
              "<gensim.interfaces.TransformedCorpus at 0x7f5dce4d5390>"
            ]
          },
          "metadata": {},
          "execution_count": 93
        }
      ]
    },
    {
      "cell_type": "code",
      "source": [
        ""
      ],
      "metadata": {
        "id": "CWjVCx1bCJ0B"
      },
      "execution_count": null,
      "outputs": []
    }
  ]
}